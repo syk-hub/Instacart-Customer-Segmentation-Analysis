{
 "cells": [
  {
   "cell_type": "code",
   "execution_count": 1,
   "id": "5d453dcf-0259-4c1c-b19e-788c5e42ffa4",
   "metadata": {},
   "outputs": [
    {
     "name": "stdout",
     "output_type": "stream",
     "text": [
      "C:\\Users\\syksh\n"
     ]
    }
   ],
   "source": [
    "import os\n",
    "print(os.getcwd())\n"
   ]
  },
  {
   "cell_type": "code",
   "execution_count": 2,
   "id": "f079940d-7211-4d10-b872-0eab4065a37d",
   "metadata": {},
   "outputs": [],
   "source": [
    "import os\n",
    "os.chdir('C:/Users/syksh/Documents/Instacart')  # Change this to your data folder path\n"
   ]
  },
  {
   "cell_type": "code",
   "execution_count": 3,
   "id": "d21d084b-49cc-4ec3-ab04-6d471a5c4251",
   "metadata": {},
   "outputs": [
    {
     "name": "stdout",
     "output_type": "stream",
     "text": [
      "C:\\Users\\syksh\\Documents\\Instacart\n"
     ]
    }
   ],
   "source": [
    "print(os.getcwd())"
   ]
  },
  {
   "cell_type": "code",
   "execution_count": 4,
   "id": "bc57e681-2867-4821-898d-2662bcb7561b",
   "metadata": {},
   "outputs": [
    {
     "name": "stdout",
     "output_type": "stream",
     "text": [
      "   order_id  user_id eval_set  order_number  order_dow  order_hour_of_day  \\\n",
      "0   2539329        1    prior             1          2                  8   \n",
      "1   2398795        1    prior             2          3                  7   \n",
      "2    473747        1    prior             3          3                 12   \n",
      "3   2254736        1    prior             4          4                  7   \n",
      "4    431534        1    prior             5          4                 15   \n",
      "\n",
      "   days_since_prior_order  \n",
      "0                     NaN  \n",
      "1                    15.0  \n",
      "2                    21.0  \n",
      "3                    29.0  \n",
      "4                    28.0  \n"
     ]
    }
   ],
   "source": [
    "import pandas as pd\n",
    "\n",
    "# Load each dataset\n",
    "orders = pd.read_csv('orders.csv')\n",
    "order_products_prior = pd.read_csv('order_products__prior.csv')\n",
    "order_products_train = pd.read_csv('order_products__train.csv')\n",
    "products = pd.read_csv('products.csv')\n",
    "aisles = pd.read_csv('aisles.csv')  # Optional\n",
    "departments = pd.read_csv('departments.csv')  # Optional\n",
    "\n",
    "# Check if the files are loaded properly by displaying the first few rows of one file\n",
    "print(orders.head())  # This will display the first 5 rows of the 'orders' DataFrame\n"
   ]
  },
  {
   "cell_type": "code",
   "execution_count": 5,
   "id": "6944808a-c9c7-4710-8193-7939769524e2",
   "metadata": {},
   "outputs": [
    {
     "name": "stdout",
     "output_type": "stream",
     "text": [
      "['aisles.csv', 'departments.csv', 'orders.csv', 'order_products__prior.csv', 'order_products__train.csv', 'products.csv', 'sample_submission.csv']\n"
     ]
    }
   ],
   "source": [
    "import os\n",
    "# List all files in the current directory\n",
    "files = os.listdir()\n",
    "print(files)\n"
   ]
  },
  {
   "cell_type": "code",
   "execution_count": 6,
   "id": "a1a01bda-3408-4734-a88a-4fc5a3b26553",
   "metadata": {},
   "outputs": [
    {
     "name": "stdout",
     "output_type": "stream",
     "text": [
      "   order_id  product_id  add_to_cart_order  reordered\n",
      "0         2       33120                  1          1\n",
      "1         2       28985                  2          1\n",
      "2         2        9327                  3          0\n",
      "3         2       45918                  4          1\n",
      "4         2       30035                  5          0\n"
     ]
    }
   ],
   "source": [
    "# Combine prior and train datasets into one\n",
    "order_products = pd.concat([order_products_prior, order_products_train])\n",
    "\n",
    "# Preview the first few rows of the combined dataset\n",
    "print(order_products.head())\n"
   ]
  },
  {
   "cell_type": "code",
   "execution_count": 7,
   "id": "288d470c-9a66-4bd7-80a5-b7bf6c2791a7",
   "metadata": {},
   "outputs": [
    {
     "name": "stdout",
     "output_type": "stream",
     "text": [
      "   order_id  product_id  add_to_cart_order  reordered  user_id eval_set  \\\n",
      "0         2       33120                  1          1   202279    prior   \n",
      "1         2       28985                  2          1   202279    prior   \n",
      "2         2        9327                  3          0   202279    prior   \n",
      "3         2       45918                  4          1   202279    prior   \n",
      "4         2       30035                  5          0   202279    prior   \n",
      "\n",
      "   order_number  order_dow  order_hour_of_day  days_since_prior_order  \n",
      "0             3          5                  9                     8.0  \n",
      "1             3          5                  9                     8.0  \n",
      "2             3          5                  9                     8.0  \n",
      "3             3          5                  9                     8.0  \n",
      "4             3          5                  9                     8.0  \n"
     ]
    }
   ],
   "source": [
    "# Merge orders with order_products on 'order_id'\n",
    "orders_combined = pd.merge(order_products, orders, on='order_id', how='inner')\n",
    "\n",
    "# Preview the first few rows of the merged dataset\n",
    "print(orders_combined.head())\n"
   ]
  },
  {
   "cell_type": "code",
   "execution_count": 8,
   "id": "42b496f6-b24a-4c9b-a646-5e3c77969882",
   "metadata": {},
   "outputs": [
    {
     "name": "stdout",
     "output_type": "stream",
     "text": [
      "   order_id  product_id  add_to_cart_order  reordered  user_id eval_set  \\\n",
      "0         2       33120                  1          1   202279    prior   \n",
      "1         2       28985                  2          1   202279    prior   \n",
      "2         2        9327                  3          0   202279    prior   \n",
      "3         2       45918                  4          1   202279    prior   \n",
      "4         2       30035                  5          0   202279    prior   \n",
      "\n",
      "   order_number  order_dow  order_hour_of_day  days_since_prior_order  \\\n",
      "0             3          5                  9                     8.0   \n",
      "1             3          5                  9                     8.0   \n",
      "2             3          5                  9                     8.0   \n",
      "3             3          5                  9                     8.0   \n",
      "4             3          5                  9                     8.0   \n",
      "\n",
      "            product_name  aisle_id  department_id  \n",
      "0     Organic Egg Whites        86             16  \n",
      "1  Michigan Organic Kale        83              4  \n",
      "2          Garlic Powder       104             13  \n",
      "3         Coconut Butter        19             13  \n",
      "4      Natural Sweetener        17             13  \n"
     ]
    }
   ],
   "source": [
    "# Merge with products to include product names\n",
    "orders_with_products = pd.merge(orders_combined, products, on='product_id', how='inner')\n",
    "\n",
    "# Preview the first few rows\n",
    "print(orders_with_products.head())\n"
   ]
  },
  {
   "cell_type": "code",
   "execution_count": 9,
   "id": "9f80b142-d054-4b87-8a0c-9d3bf268d82d",
   "metadata": {},
   "outputs": [
    {
     "name": "stdout",
     "output_type": "stream",
     "text": [
      "   order_id  product_id  add_to_cart_order  reordered  user_id eval_set  \\\n",
      "0         2       33120                  1          1   202279    prior   \n",
      "1         2       28985                  2          1   202279    prior   \n",
      "2         2        9327                  3          0   202279    prior   \n",
      "3         2       45918                  4          1   202279    prior   \n",
      "4         2       30035                  5          0   202279    prior   \n",
      "\n",
      "   order_number  order_dow  order_hour_of_day  days_since_prior_order  \\\n",
      "0             3          5                  9                     8.0   \n",
      "1             3          5                  9                     8.0   \n",
      "2             3          5                  9                     8.0   \n",
      "3             3          5                  9                     8.0   \n",
      "4             3          5                  9                     8.0   \n",
      "\n",
      "            product_name  aisle_id  department_id               aisle  \\\n",
      "0     Organic Egg Whites        86             16                eggs   \n",
      "1  Michigan Organic Kale        83              4    fresh vegetables   \n",
      "2          Garlic Powder       104             13   spices seasonings   \n",
      "3         Coconut Butter        19             13       oils vinegars   \n",
      "4      Natural Sweetener        17             13  baking ingredients   \n",
      "\n",
      "   department  \n",
      "0  dairy eggs  \n",
      "1     produce  \n",
      "2      pantry  \n",
      "3      pantry  \n",
      "4      pantry  \n"
     ]
    }
   ],
   "source": [
    "# Merge with aisles and departments (optional, for additional detail)\n",
    "orders_full = pd.merge(orders_with_products, aisles, on='aisle_id', how='left')\n",
    "orders_full = pd.merge(orders_full, departments, on='department_id', how='left')\n",
    "\n",
    "# Preview the final combined dataset\n",
    "print(orders_full.head())\n"
   ]
  },
  {
   "cell_type": "code",
   "execution_count": 10,
   "id": "c5f71d2e-f011-4b68-b9e9-463cc4dfc0de",
   "metadata": {},
   "outputs": [
    {
     "name": "stdout",
     "output_type": "stream",
     "text": [
      "(33819106, 15)\n",
      "   order_id  product_id  add_to_cart_order  reordered  user_id eval_set  \\\n",
      "0         2       33120                  1          1   202279    prior   \n",
      "1         2       28985                  2          1   202279    prior   \n",
      "2         2        9327                  3          0   202279    prior   \n",
      "3         2       45918                  4          1   202279    prior   \n",
      "4         2       30035                  5          0   202279    prior   \n",
      "\n",
      "   order_number  order_dow  order_hour_of_day  days_since_prior_order  \\\n",
      "0             3          5                  9                     8.0   \n",
      "1             3          5                  9                     8.0   \n",
      "2             3          5                  9                     8.0   \n",
      "3             3          5                  9                     8.0   \n",
      "4             3          5                  9                     8.0   \n",
      "\n",
      "            product_name  aisle_id  department_id               aisle  \\\n",
      "0     Organic Egg Whites        86             16                eggs   \n",
      "1  Michigan Organic Kale        83              4    fresh vegetables   \n",
      "2          Garlic Powder       104             13   spices seasonings   \n",
      "3         Coconut Butter        19             13       oils vinegars   \n",
      "4      Natural Sweetener        17             13  baking ingredients   \n",
      "\n",
      "   department  \n",
      "0  dairy eggs  \n",
      "1     produce  \n",
      "2      pantry  \n",
      "3      pantry  \n",
      "4      pantry  \n"
     ]
    }
   ],
   "source": [
    "# Check the shape of the final dataset\n",
    "print(orders_full.shape)\n",
    "\n",
    "# Display the first few rows\n",
    "print(orders_full.head())\n"
   ]
  },
  {
   "cell_type": "code",
   "execution_count": 12,
   "id": "90da9247-cdc8-4490-8105-8125d413e731",
   "metadata": {},
   "outputs": [
    {
     "name": "stdout",
     "output_type": "stream",
     "text": [
      "   user_id  recency  frequency\n",
      "0        1      0.0         11\n",
      "1        2      3.0         15\n",
      "2        3      7.0         12\n",
      "3        4      0.0          5\n",
      "4        5      6.0          5\n"
     ]
    }
   ],
   "source": [
    "# Recency: Find the most recent order for each customer\n",
    "recency = orders_full.groupby('user_id')['days_since_prior_order'].min().reset_index()\n",
    "recency.columns = ['user_id', 'recency']\n",
    "\n",
    "# Frequency: Count the total number of orders per customer\n",
    "frequency = orders_full.groupby('user_id')['order_id'].nunique().reset_index()\n",
    "frequency.columns = ['user_id', 'frequency']\n",
    "\n",
    "# Merge Recency and Frequency into one DataFrame\n",
    "rfm = pd.merge(recency, frequency, on='user_id')\n",
    "\n",
    "# Preview the RFM DataFrame\n",
    "print(rfm.head())\n"
   ]
  },
  {
   "cell_type": "code",
   "execution_count": 17,
   "id": "bed494ea-c5d4-4691-bb8f-1d5c36df1d19",
   "metadata": {},
   "outputs": [],
   "source": [
    "# Calculate Monetary: Total number of products purchased by each customer\n",
    "monetary = orders_full.groupby('user_id')['product_id'].count().reset_index()\n",
    "monetary.columns = ['user_id', 'monetary']\n",
    "\n",
    "# Merge the Monetary DataFrame with the existing RFM DataFrame\n",
    "rfm = pd.merge(rfm, monetary, on='user_id')\n"
   ]
  },
  {
   "cell_type": "code",
   "execution_count": 18,
   "id": "21cbc938-6747-42c4-9477-cceafa6e479c",
   "metadata": {},
   "outputs": [],
   "source": [
    "# Assign scores based on quartiles\n",
    "rfm['recency_score'] = pd.qcut(rfm['recency'], q=4, labels=[4, 3, 2, 1])  # Higher score for more recent purchases\n",
    "rfm['frequency_score'] = pd.qcut(rfm['frequency'], q=4, labels=[1, 2, 3, 4])  # Higher score for more frequent purchases\n",
    "rfm['monetary_score'] = pd.qcut(rfm['monetary'], q=4, labels=[1, 2, 3, 4])  # Higher score for higher spending\n"
   ]
  },
  {
   "cell_type": "code",
   "execution_count": 19,
   "id": "3f6185d4-4f31-43ca-ac92-62bf4b753c8f",
   "metadata": {},
   "outputs": [],
   "source": [
    "# Combine RFM scores into a single RFM score\n",
    "rfm['RFM_score'] = rfm['recency_score'].astype(str) + rfm['frequency_score'].astype(str) + rfm['monetary_score'].astype(str)\n"
   ]
  },
  {
   "cell_type": "code",
   "execution_count": 20,
   "id": "e8d5cd54-38e9-4653-a528-73c06b275ec4",
   "metadata": {},
   "outputs": [],
   "source": [
    "# Define customer segments based on RFM_score\n",
    "def segment_customer(rfm_score):\n",
    "    if rfm_score == '444':\n",
    "        return 'High Value'\n",
    "    elif rfm_score in ['344', '434', '443']:\n",
    "        return 'Loyal'\n",
    "    elif rfm_score in ['144', '214', '124']:\n",
    "        return 'At Risk'\n",
    "    else:\n",
    "        return 'Other'\n",
    "\n",
    "# Apply the function to create the 'segment' column\n",
    "rfm['segment'] = rfm['RFM_score'].apply(segment_customer)\n",
    "                    "
   ]
  },
  {
   "cell_type": "code",
   "execution_count": 21,
   "id": "ca72abaf-2fb6-4933-ac30-91bbf6b01606",
   "metadata": {},
   "outputs": [],
   "source": [
    "# Specify the path to save the CSV file\n",
    "file_path = r\"C:\\Users\\syksh\\Documents\\CustomerSegmentationProject\\data\\rfm_segments.csv\"\n",
    "\n",
    "# Save the DataFrame as a CSV file to the specified path\n",
    "rfm.to_csv(file_path, index=False)\n"
   ]
  },
  {
   "cell_type": "code",
   "execution_count": 22,
   "id": "1d292f76-19a8-4f3c-bc86-38164530af25",
   "metadata": {},
   "outputs": [],
   "source": [
    "orders_with_segments = pd.merge(orders_full, rfm[['user_id', 'segment']], on='user_id', how='left')\n"
   ]
  },
  {
   "cell_type": "code",
   "execution_count": 23,
   "id": "bef17e04-b043-4c1a-ae31-3b6d4e39091c",
   "metadata": {},
   "outputs": [],
   "source": [
    "# Group by segment and product_id, then count purchases\n",
    "top_products_by_segment = orders_with_segments.groupby(['segment', 'product_id']).size().reset_index(name='purchase_count')\n"
   ]
  },
  {
   "cell_type": "code",
   "execution_count": 24,
   "id": "988aeb71-c7c4-43ef-bbb6-2757f7fc9809",
   "metadata": {},
   "outputs": [],
   "source": [
    "# Merge to add product names\n",
    "top_products_by_segment = pd.merge(top_products_by_segment, products[['product_id', 'product_name']], on='product_id', how='left')\n"
   ]
  },
  {
   "cell_type": "code",
   "execution_count": 25,
   "id": "b053febe-6614-4a41-8c12-fa964261f587",
   "metadata": {},
   "outputs": [],
   "source": [
    "top_products_by_segment = top_products_by_segment.sort_values(['segment', 'purchase_count'], ascending=[True, False])\n"
   ]
  },
  {
   "cell_type": "code",
   "execution_count": 26,
   "id": "33e68e94-1aa4-4854-a698-d4641ccd350a",
   "metadata": {},
   "outputs": [],
   "source": [
    "# Define the file path\n",
    "top_products_file_path = r\"C:\\Users\\syksh\\Documents\\CustomerSegmentationProject\\data\\top_products_by_segment.csv\"\n",
    "\n",
    "# Save to CSV\n",
    "top_products_by_segment.to_csv(top_products_file_path, index=False)\n"
   ]
  },
  {
   "cell_type": "code",
   "execution_count": 27,
   "id": "52e69891-7e47-41e2-b591-f9b33982e926",
   "metadata": {},
   "outputs": [],
   "source": [
    "# Group by order_dow and segment, then count orders\n",
    "orders_by_day = orders_with_segments.groupby(['order_dow', 'segment']).size().reset_index(name='order_count')\n",
    "\n",
    "# Define the file path for the CSV file\n",
    "orders_by_day_file_path = r\"C:\\Users\\syksh\\Documents\\CustomerSegmentationProject\\data\\orders_by_day.csv\"\n",
    "\n",
    "# Save the DataFrame to a CSV file\n",
    "orders_by_day.to_csv(orders_by_day_file_path, index=False)\n"
   ]
  },
  {
   "cell_type": "code",
   "execution_count": 28,
   "id": "fdee1213-d022-4517-9a13-cd6f12a72c03",
   "metadata": {},
   "outputs": [],
   "source": [
    "# Group by order_dow, order_hour_of_day, and segment, then count orders\n",
    "orders_by_day_hour = orders_with_segments.groupby(['order_dow', 'order_hour_of_day', 'segment']).size().reset_index(name='order_count')\n",
    "\n",
    "# Define the file path for the CSV file\n",
    "orders_by_day_hour_file_path = r\"C:\\Users\\syksh\\Documents\\CustomerSegmentationProject\\data\\orders_by_day_hour.csv\"\n",
    "\n",
    "# Save the DataFrame to a CSV file\n",
    "orders_by_day_hour.to_csv(orders_by_day_hour_file_path, index=False)\n"
   ]
  }
 ],
 "metadata": {
  "kernelspec": {
   "display_name": "Python 3 (ipykernel)",
   "language": "python",
   "name": "python3"
  },
  "language_info": {
   "codemirror_mode": {
    "name": "ipython",
    "version": 3
   },
   "file_extension": ".py",
   "mimetype": "text/x-python",
   "name": "python",
   "nbconvert_exporter": "python",
   "pygments_lexer": "ipython3",
   "version": "3.12.4"
  }
 },
 "nbformat": 4,
 "nbformat_minor": 5
}
